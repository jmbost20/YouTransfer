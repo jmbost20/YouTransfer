{
  "nbformat": 4,
  "nbformat_minor": 0,
  "metadata": {
    "colab": {
      "provenance": [],
      "include_colab_link": true
    },
    "kernelspec": {
      "name": "python3",
      "display_name": "Python 3"
    },
    "language_info": {
      "name": "python"
    }
  },
  "cells": [
    {
      "cell_type": "markdown",
      "metadata": {
        "id": "view-in-github",
        "colab_type": "text"
      },
      "source": [
        "<a href=\"https://colab.research.google.com/github/jmbost20/YouTransfer/blob/main/Use_W2V.ipynb\" target=\"_parent\"><img src=\"https://colab.research.google.com/assets/colab-badge.svg\" alt=\"Open In Colab\"/></a>"
      ]
    },
    {
      "cell_type": "code",
      "execution_count": null,
      "metadata": {
        "colab": {
          "base_uri": "https://localhost:8080/"
        },
        "id": "MHUKQgP3deMK",
        "outputId": "1be778bd-287f-4daa-ad2c-9e0550bb6793"
      },
      "outputs": [
        {
          "output_type": "stream",
          "name": "stdout",
          "text": [
            "Drive already mounted at /content/drive; to attempt to forcibly remount, call drive.mount(\"/content/drive\", force_remount=True).\n"
          ]
        }
      ],
      "source": [
        "from gensim.models import Word2Vec\n",
        "from gensim.models.word2vec import LineSentence\n",
        "import numpy as np\n",
        "from google.colab import drive\n",
        "drive.mount('/content/drive')\n"
      ]
    },
    {
      "cell_type": "code",
      "source": [
        "corpus_path = '/content/drive/MyDrive/Style-Transfer/Data/Corpus.npy'\n",
        "\n",
        "corpus = np.load(corpus_path, allow_pickle = True) # massive array of lists of lists\n",
        "corpus[4555]"
      ],
      "metadata": {
        "id": "HrhEWmy8AXhg",
        "colab": {
          "base_uri": "https://localhost:8080/"
        },
        "outputId": "8626078d-9e69-4236-ea31-8eee1695acaa"
      },
      "execution_count": null,
      "outputs": [
        {
          "output_type": "execute_result",
          "data": {
            "text/plain": [
              "array(['<sos>', 'sail', 'to', 'reinforce', 'the', 'ottoman', 'garrison',\n",
              "       'in', 'patras', ',', 'but', 'codrington', 'caught', 'wind', 'of',\n",
              "       'this', ',', '<pad>', '<pad>', '<pad>'], dtype='<U57')"
            ]
          },
          "metadata": {},
          "execution_count": 20
        }
      ]
    },
    {
      "cell_type": "code",
      "source": [
        "len(corpus[0])  "
      ],
      "metadata": {
        "colab": {
          "base_uri": "https://localhost:8080/"
        },
        "id": "KN9awUy3ZDFs",
        "outputId": "a8a6293f-7889-48c0-e94c-ae34d4155bba"
      },
      "execution_count": null,
      "outputs": [
        {
          "output_type": "execute_result",
          "data": {
            "text/plain": [
              "20"
            ]
          },
          "metadata": {},
          "execution_count": 21
        }
      ]
    },
    {
      "cell_type": "code",
      "source": [
        "del embed_model"
      ],
      "metadata": {
        "id": "2vqfkOKdQAt2",
        "colab": {
          "base_uri": "https://localhost:8080/",
          "height": 166
        },
        "outputId": "cfeea65e-ff8f-42e9-b3f1-e49c37949409"
      },
      "execution_count": null,
      "outputs": [
        {
          "output_type": "error",
          "ename": "NameError",
          "evalue": "ignored",
          "traceback": [
            "\u001b[0;31m---------------------------------------------------------------------------\u001b[0m",
            "\u001b[0;31mNameError\u001b[0m                                 Traceback (most recent call last)",
            "\u001b[0;32m<ipython-input-7-85bbb623e223>\u001b[0m in \u001b[0;36m<cell line: 1>\u001b[0;34m()\u001b[0m\n\u001b[0;32m----> 1\u001b[0;31m \u001b[0;32mdel\u001b[0m \u001b[0membed_model\u001b[0m\u001b[0;34m\u001b[0m\u001b[0;34m\u001b[0m\u001b[0m\n\u001b[0m",
            "\u001b[0;31mNameError\u001b[0m: name 'embed_model' is not defined"
          ]
        }
      ]
    },
    {
      "cell_type": "code",
      "source": [
        "test2 = [list(sublist) for sublist in corpus]  #Assume form [Youtuber[sentence[word]]]\n",
        "test2.append(['<unk>' for i in range(20)])  #Changed 75 to 20\n",
        "test2[-1]"
      ],
      "metadata": {
        "id": "tYr6fubiENMF"
      },
      "execution_count": null,
      "outputs": []
    },
    {
      "cell_type": "code",
      "source": [
        "embedding_size = 64\n",
        "model_file_path ='/content/drive/MyDrive/Style-Transfer/Models/W2V_Embedding_Model.model'\n",
        "\n",
        "embed_model = Word2Vec(sentences=test2, min_count=1,vector_size=embedding_size)\n",
        "embed_model.save(model_file_path)\n",
        "\n",
        "print(\"Model Details: {}\".format(embed_model))\n",
        "\n",
        "#embed_model.train(corpus, total_words = len(corpus), epochs = 1)\n"
      ],
      "metadata": {
        "id": "x8fjqVRuU4Gk",
        "colab": {
          "base_uri": "https://localhost:8080/"
        },
        "outputId": "ade923ea-bc11-48e0-d843-e405aef0687e"
      },
      "execution_count": null,
      "outputs": [
        {
          "output_type": "stream",
          "name": "stdout",
          "text": [
            "Model Details: Word2Vec<vocab=27958, vector_size=64, alpha=0.025>\n"
          ]
        }
      ]
    },
    {
      "cell_type": "code",
      "source": [
        "import torch\n",
        "#import torch.nn.functional as F\n",
        "torch.manual_seed(42)\n",
        "\n",
        "\n",
        "vocab_path = '/content/drive/MyDrive/Style-Transfer/Data/Vocabulary_obj.pth'\n",
        "test = torch.load(vocab_path)      #Load Vocab Index\n"
      ],
      "metadata": {
        "id": "jbB7Du461Y6P"
      },
      "execution_count": null,
      "outputs": []
    },
    {
      "cell_type": "code",
      "source": [
        "test['<unk>']"
      ],
      "metadata": {
        "id": "d7cveyS8J82q"
      },
      "execution_count": null,
      "outputs": []
    },
    {
      "cell_type": "code",
      "source": [
        "embed_matrix_filepath = '/content/drive/MyDrive/Style-Transfer/Data/embedding_matrix.npy'\n",
        "words_in_vocab = test.get_itos()\n",
        "\n",
        "embedding_matrix = [embed_model.wv[i] for i in words_in_vocab]\n",
        "\n",
        "np.save(embed_matrix_filepath,embedding_matrix)"
      ],
      "metadata": {
        "id": "kQ4pSypxRZJk"
      },
      "execution_count": null,
      "outputs": []
    },
    {
      "cell_type": "code",
      "source": [
        "a = np.load(embed_matrix_filepath)\n",
        "len(a)"
      ],
      "metadata": {
        "id": "jRX9_iSNZGOz",
        "colab": {
          "base_uri": "https://localhost:8080/"
        },
        "outputId": "f5164960-57b4-4bce-abde-aaff21695350"
      },
      "execution_count": null,
      "outputs": [
        {
          "output_type": "execute_result",
          "data": {
            "text/plain": [
              "10000"
            ]
          },
          "metadata": {},
          "execution_count": 26
        }
      ]
    },
    {
      "cell_type": "code",
      "source": [
        "embed_model.wv['<unk>']"
      ],
      "metadata": {
        "id": "BEhNY0uBSYNX"
      },
      "execution_count": null,
      "outputs": []
    },
    {
      "cell_type": "code",
      "source": [
        "train_labels_file_path = '/content/drive/MyDrive/Style-Transfer/Data/labels.npy'\n",
        "\n",
        "a = np.load(train_labels_file_path)"
      ],
      "metadata": {
        "id": "TjIb9NLE1DgL"
      },
      "execution_count": null,
      "outputs": []
    },
    {
      "cell_type": "code",
      "source": [
        "import json\n",
        "bow_file_path = '/content/drive/MyDrive/Style-Transfer/Data/BoW_file.json'\n",
        "\n",
        "with open(bow_file_path) as f:\n",
        "           bow_filtered_vocab_indices = json.load(f)\n",
        "len(bow_filtered_vocab_indices)"
      ],
      "metadata": {
        "id": "nAsnGGoVu3ch"
      },
      "execution_count": null,
      "outputs": []
    },
    {
      "cell_type": "code",
      "source": [],
      "metadata": {
        "id": "8n2kz5mevoaL"
      },
      "execution_count": null,
      "outputs": []
    },
    {
      "cell_type": "code",
      "source": [
        "bow_filtered_vocab_indices['<pad>']/113748   #about 6.4 pad tokens per entry"
      ],
      "metadata": {
        "id": "iO3z9EAWvvo_"
      },
      "execution_count": null,
      "outputs": []
    },
    {
      "cell_type": "code",
      "source": [
        "bow_filtered_vocab_indices"
      ],
      "metadata": {
        "id": "nfc-T8MxygQ-"
      },
      "execution_count": null,
      "outputs": []
    }
  ]
}